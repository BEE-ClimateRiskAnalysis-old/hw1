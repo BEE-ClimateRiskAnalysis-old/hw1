{
 "cells": [
  {
   "cell_type": "markdown",
   "source": [
    "# Homework 1, BEE 6940 (Due By 2/2/23, 9:00PM)"
   ],
   "metadata": {}
  },
  {
   "cell_type": "markdown",
   "source": [
    "**Name**:\n",
    "\n",
    "**ID**:"
   ],
   "metadata": {}
  },
  {
   "cell_type": "markdown",
   "source": [
    "## Overview"
   ],
   "metadata": {}
  },
  {
   "cell_type": "markdown",
   "source": [
    "### Instructions\n",
    "\n",
    "This homework consists of two parts:\n",
    "- Problems 1 and 2 involve writing Julia functions to ensure that you have a good grip on basic Julia syntax.\n",
    "- Problems 3-6 consist of a series of code snippets for you to interpret and debug. For Problems 3-5, you will be asked to identify relevant error(s) and fix the code. For Problem 6, the code works as intended; your goal is to identify the code's purpose by following its logic."
   ],
   "metadata": {}
  },
  {
   "cell_type": "markdown",
   "source": [
    "### Load Environment\n",
    "\n",
    "The following code loads the environment and makes sure all needed packages are installed. This should be at the start of most Julia scripts."
   ],
   "metadata": {}
  },
  {
   "outputs": [
    {
     "name": "stdout",
     "output_type": "stream",
     "text": [
      "  Activating project at `~/Teaching/BEE6940/hw/hw1`\n"
     ]
    }
   ],
   "cell_type": "code",
   "source": [
    "import Pkg\n",
    "Pkg.activate(@__DIR__)\n",
    "Pkg.instantiate()"
   ],
   "metadata": {},
   "execution_count": 1
  },
  {
   "cell_type": "markdown",
   "source": [
    "## Problems (Total: 100 Points)"
   ],
   "metadata": {}
  },
  {
   "cell_type": "markdown",
   "source": [
    "### Problem 1 (15 points)\n",
    "\n",
    "This problem involves implementing Newton's method for computing square roots; it was shamelessly copied from MIT's [Introduction to Computational Thinking](https://computationalthinking.mit.edu/Spring21/hw0/)."
   ],
   "metadata": {}
  },
  {
   "cell_type": "markdown",
   "source": [
    "#### Problem 1.1 (10 points)\n",
    "\n",
    "Implement the following algorithm in a function `newton_sqrt`:\n",
    "\n",
    "Given $x > 0$:\n",
    "1. Take a guess $a$.\n",
    "2. Divide $x$ by $a$.\n",
    "3. Update $a$ as the average of $x/a$ and $a$.\n",
    "4. Repeat until $x/a$ is within a tolerance of $\\varepsilon$ from $a$..\n",
    "5. Return $a \\approx \\sqrt{x}$."
   ],
   "metadata": {}
  },
  {
   "cell_type": "markdown",
   "source": [
    "#### Problem 1.2 (5 points)\n",
    "\n",
    "Use your `newton_sqrt` function to compute $\\sqrt{2}$ to within a tolerance of $\\varepsilon = 0.01$"
   ],
   "metadata": {}
  },
  {
   "cell_type": "markdown",
   "source": [
    "### Problem 2 (25 points)"
   ],
   "metadata": {}
  },
  {
   "cell_type": "markdown",
   "source": [
    "#### Problem 2.1 (10 points)\n",
    "\n",
    "Load the `Distributions.jl` package (which is provided in the notebook environment) and sample 100 variables from a normal distribution with mean 1 and standard deviation 5, e.g. $x_i \\sim N(1, 5)$."
   ],
   "metadata": {}
  },
  {
   "cell_type": "markdown",
   "source": [
    "#### Problem 2.2 (10 points)\n",
    "\n",
    "Write a function `mean_loop` to compute the mean of this vector $\\bar{x}$ using a `for` loop."
   ],
   "metadata": {}
  },
  {
   "cell_type": "markdown",
   "source": [
    "#### Problem 2.3 (5 points)\n",
    "\n",
    "Use broadcasting to subtract the mean $\\bar{x}$ from each element of your vector of sampled variables."
   ],
   "metadata": {}
  },
  {
   "cell_type": "markdown",
   "source": [
    "### Problem 3 (15 points)\n",
    "\n",
    "You've been tasked with writing code to identify the minimum value in an array. You cannot use a predefined function. Your colleague suggested the function below, but it does not return the minimum value."
   ],
   "metadata": {}
  },
  {
   "outputs": [
    {
     "output_type": "execute_result",
     "data": {
      "text/plain": "0"
     },
     "metadata": {},
     "execution_count": 2
    }
   ],
   "cell_type": "code",
   "source": [
    "function minimum(array)\n",
    "    min_value = 0 # variable which stores minimum value\n",
    "    for i in 1:length(array)\n",
    "        if array[i] < min_value\n",
    "            min_value = array[i]\n",
    "        end\n",
    "    end\n",
    "    return min_value\n",
    "end\n",
    "\n",
    "array_values = [89, 90, 95, 100, 100, 78, 99, 98, 100, 95]\n",
    "minimum(array_values)"
   ],
   "metadata": {},
   "execution_count": 2
  },
  {
   "cell_type": "markdown",
   "source": [
    "#### Problem 3.1 (5 points)\n",
    "\n",
    "Describe the logic error."
   ],
   "metadata": {}
  },
  {
   "cell_type": "markdown",
   "source": [
    "#### Problem 3.2 (5 points)\n",
    "\n",
    "Write a fixed version of the function."
   ],
   "metadata": {}
  },
  {
   "cell_type": "markdown",
   "source": [
    "#### Problem 3.3 (5 points)\n",
    "\n",
    "Use your fixed function to find the minimum value of `array_values`."
   ],
   "metadata": {}
  },
  {
   "cell_type": "markdown",
   "source": [
    "### Problem 4 (15 points)\n",
    "\n",
    "Your team is trying to compute the average grade for your class, but the following code produces an error."
   ],
   "metadata": {}
  },
  {
   "outputs": [
    {
     "name": "stdout",
     "output_type": "stream",
     "text": [
      "UndefVarError: average_grade not defined"
     ]
    }
   ],
   "cell_type": "code",
   "source": [
    "student_grades = [89, 90, 95, 100, 100, 78, 99, 98, 100, 95]\n",
    "function class_average(grades)\n",
    "  average_grade = mean(student_grades)\n",
    "  return average_grade\n",
    "end\n",
    "\n",
    "try #hide\n",
    "average_grade\n",
    "catch err; showerror(stderr, err); end  #hide"
   ],
   "metadata": {},
   "execution_count": 3
  },
  {
   "cell_type": "markdown",
   "source": [
    "#### Problem 4.1 (5 points)\n",
    "\n",
    "Describe the logic and/or syntax error."
   ],
   "metadata": {}
  },
  {
   "cell_type": "markdown",
   "source": [
    "#### Problem 4.2 (5 points)\n",
    "\n",
    "Write a fixed version of the code."
   ],
   "metadata": {}
  },
  {
   "cell_type": "markdown",
   "source": [
    "#### Problem 4.3 (5 points)\n",
    "\n",
    "Use your fixed code to compute the average grade for the class."
   ],
   "metadata": {}
  },
  {
   "cell_type": "markdown",
   "source": [
    "### Problem 5 (15 points)\n",
    "\n",
    "Your team has collected data on the mileage of different car models. You want to calculate the average mileage per gallon (MPG) for the different cars, but your code produces the same value for all of the vehicles, which makes you suspicious."
   ],
   "metadata": {}
  },
  {
   "outputs": [
    {
     "name": "stdout",
     "output_type": "stream",
     "text": [
      "mpg = [30.363636363636363, 30.363636363636363, 30.363636363636363, 30.363636363636363, 30.363636363636363, 30.363636363636363]\n"
     ]
    },
    {
     "output_type": "execute_result",
     "data": {
      "text/plain": "6-element Vector{Float64}:\n 30.363636363636363\n 30.363636363636363\n 30.363636363636363\n 30.363636363636363\n 30.363636363636363\n 30.363636363636363"
     },
     "metadata": {},
     "execution_count": 4
    }
   ],
   "cell_type": "code",
   "source": [
    "# function to calculate MPG given a tuple of miles and gallons\n",
    "function calculate_MPG((miles, gallons))\n",
    "    return miles / gallons\n",
    "end\n",
    "\n",
    "car_miles =  [(334, 11), (289, 15), (306, 12), (303, 20), (350, 20), (294, 14)]\n",
    "\n",
    "mpg = zeros(length(car_miles))\n",
    "\n",
    "for i in 1:length(car_miles)\n",
    "    miles = car_miles[1][1]\n",
    "    gallon = car_miles[1][2]\n",
    "    mpg[i] = calculate_MPG((miles, gallon))\n",
    "end\n",
    "@show mpg"
   ],
   "metadata": {},
   "execution_count": 4
  },
  {
   "cell_type": "markdown",
   "source": [
    "##### Problem 5.1 (5 points)\n",
    "\n",
    "Describe the logic error."
   ],
   "metadata": {}
  },
  {
   "cell_type": "markdown",
   "source": [
    "#### Problem 5.2 (5 points)\n",
    "\n",
    "Write a fixed version of the code."
   ],
   "metadata": {}
  },
  {
   "cell_type": "markdown",
   "source": [
    "#### Problem 5.3 (5 points)\n",
    "\n",
    "Use your fixed code to compute the MPGs."
   ],
   "metadata": {}
  },
  {
   "cell_type": "markdown",
   "source": [
    "### Problem 6 (15 points)\n",
    "\n",
    "You've been handed some code to analyze. The original coder was not very considerate of other potential users: the function is called `mystery_function` and there are no comments explaining the purpose of the code. It appears to take in an array and return some numbers, and you've been assured that the code works as intended."
   ],
   "metadata": {}
  },
  {
   "outputs": [
    {
     "output_type": "execute_result",
     "data": {
      "text/plain": "4-element Vector{Any}:\n 1\n 2\n 3\n 4"
     },
     "metadata": {},
     "execution_count": 5
    }
   ],
   "cell_type": "code",
   "source": [
    "function mystery_function(values)\n",
    "    y = []\n",
    "    for v in values\n",
    "        if !(v in y)\n",
    "            append!(y, v)\n",
    "        end\n",
    "    end\n",
    "    return y\n",
    "end\n",
    "\n",
    "list_of_values = [1, 2, 3, 4, 3, 4, 2, 1]\n",
    "mystery_function(list_of_values)"
   ],
   "metadata": {},
   "execution_count": 5
  },
  {
   "cell_type": "markdown",
   "source": [
    "#### Problem 6.1 (5 points)\n",
    "\n",
    "Explain the purpose of `mystery_function`."
   ],
   "metadata": {}
  },
  {
   "cell_type": "markdown",
   "source": [
    "#### Problem 6.2 (10 points)\n",
    "\n",
    "Add comments to each line of code, explaining what it is doing and why."
   ],
   "metadata": {}
  }
 ],
 "nbformat_minor": 3,
 "metadata": {
  "language_info": {
   "file_extension": ".jl",
   "mimetype": "application/julia",
   "name": "julia",
   "version": "1.8.2"
  },
  "kernelspec": {
   "name": "julia-1.8",
   "display_name": "Julia 1.8.2",
   "language": "julia"
  }
 },
 "nbformat": 4
}
